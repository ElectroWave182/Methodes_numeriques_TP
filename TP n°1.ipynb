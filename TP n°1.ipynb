{
 "cells": [
  {
   "cell_type": "code",
   "execution_count": 7,
   "metadata": {
    "collapsed": false
   },
   "outputs": [
   ],
   "source": [
    "# Fonction range avec des nombres à virgules\n",
    "def numeric_range (start, stop, step):\n",
    "\n",
    "    res, n = start, 1\n",
    "\n",
    "    while res < stop:\n",
    "        yield res\n",
    "        res = start + n * step\n",
    "        n += 1\n",
    "\n",
    "\n",
    "# Equation\n",
    "def prime (t, f):\n",
    "    return -2 * t * f\n",
    "\n",
    "# Parametres\n",
    "def debut (): return 0\n",
    "def ecart (): return 1 / 10\n",
    "def fin (): return 1\n",
    "\n",
    "# Condition de Cauchy\n",
    "def yDebut (): return 1\n",
    "\n",
    "\n",
    "# Affichage\n",
    "def affichage (liste):\n",
    "    for index in range (len (liste)):\n",
    "        show (\"x =\", float (index * ecart ()), \" :\", round (liste[index], 3))\n"
   ]
  },
  {
   "cell_type": "code",
   "execution_count": 8,
   "metadata": {
    "collapsed": false
   },
   "outputs": [
    {
     "data": {
      "text/html": [
       "<html>\\(\\displaystyle \\left[1, e^{\\left(-\\frac{1}{100}\\right)}, e^{\\left(-\\frac{1}{25}\\right)}, e^{\\left(-\\frac{9}{100}\\right)}, e^{\\left(-\\frac{4}{25}\\right)}, e^{\\left(-\\frac{1}{4}\\right)}, e^{\\left(-\\frac{9}{25}\\right)}, e^{\\left(-\\frac{49}{100}\\right)}, e^{\\left(-\\frac{16}{25}\\right)}, e^{\\left(-\\frac{81}{100}\\right)}, e^{\\left(-1\\right)}\\right]\\)</html>"
      ],
      "text/latex": [
       "$\\displaystyle \\left[1, e^{\\left(-\\frac{1}{100}\\right)}, e^{\\left(-\\frac{1}{25}\\right)}, e^{\\left(-\\frac{9}{100}\\right)}, e^{\\left(-\\frac{4}{25}\\right)}, e^{\\left(-\\frac{1}{4}\\right)}, e^{\\left(-\\frac{9}{25}\\right)}, e^{\\left(-\\frac{49}{100}\\right)}, e^{\\left(-\\frac{16}{25}\\right)}, e^{\\left(-\\frac{81}{100}\\right)}, e^{\\left(-1\\right)}\\right]$"
      ],
      "text/plain": [
       "[1,\n",
       " e^(-1/100),\n",
       " e^(-1/25),\n",
       " e^(-9/100),\n",
       " e^(-4/25),\n",
       " e^(-1/4),\n",
       " e^(-9/25),\n",
       " e^(-49/100),\n",
       " e^(-16/25),\n",
       " e^(-81/100),\n",
       " e^(-1)]"
      ]
     },
     "execution_count": 8,
     "metadata": {
     },
     "output_type": "execute_result"
    }
   ],
   "source": [
    "# Resolution exacte\n",
    "def solution (t):\n",
    "\n",
    "    return exp (-t * t)\n",
    "\n",
    "\n",
    "def exact ():\n",
    "\n",
    "    resultats = [\n",
    "        solution (x)\n",
    "        for x in numeric_range (debut (), fin () + ecart (), ecart ())\n",
    "    ]\n",
    "\n",
    "    return resultats\n",
    "\n",
    "\n",
    "show (exact ())\n"
   ]
  },
  {
   "cell_type": "code",
   "execution_count": 9,
   "metadata": {
    "collapsed": false
   },
   "outputs": [
   ],
   "source": [
    "# Fonction d'erreur\n",
    "def erreur (methode):\n",
    "\n",
    "    pile = exact ()\n",
    "    environ = methode ()\n",
    "\n",
    "    resultats = [\n",
    "        abs (pile[index] - environ[index])\n",
    "        for index in range (len (pile))\n",
    "    ]\n",
    "\n",
    "    return resultats\n"
   ]
  },
  {
   "cell_type": "code",
   "execution_count": 10,
   "metadata": {
    "collapsed": false
   },
   "outputs": [
    {
     "data": {
      "text/html": [
       "<html>\\(\\displaystyle \\verb|Valeurs|\\)</html>"
      ],
      "text/latex": [
       "$\\displaystyle \\verb|Valeurs|$"
      ],
      "text/plain": [
       "'Valeurs'"
      ]
     },
     "execution_count": 10,
     "metadata": {
     },
     "output_type": "execute_result"
    },
    {
     "data": {
      "text/html": [
       "<html>\\(\\displaystyle \\verb|x|\\verb| |\\verb|=| 0.0 \\verb| |\\verb|:| 1.0\\)</html>"
      ],
      "text/latex": [
       "$\\displaystyle \\verb|x|\\verb| |\\verb|=| 0.0 \\verb| |\\verb|:| 1.0$"
      ],
      "text/plain": [
       "'x =' 0.0 ' :' 1.0"
      ]
     },
     "execution_count": 10,
     "metadata": {
     },
     "output_type": "execute_result"
    },
    {
     "data": {
      "text/html": [
       "<html>\\(\\displaystyle \\verb|x|\\verb| |\\verb|=| 0.1 \\verb| |\\verb|:| 0.98\\)</html>"
      ],
      "text/latex": [
       "$\\displaystyle \\verb|x|\\verb| |\\verb|=| 0.1 \\verb| |\\verb|:| 0.98$"
      ],
      "text/plain": [
       "'x =' 0.1 ' :' 0.98"
      ]
     },
     "execution_count": 10,
     "metadata": {
     },
     "output_type": "execute_result"
    },
    {
     "data": {
      "text/html": [
       "<html>\\(\\displaystyle \\verb|x|\\verb| |\\verb|=| 0.2 \\verb| |\\verb|:| 0.941\\)</html>"
      ],
      "text/latex": [
       "$\\displaystyle \\verb|x|\\verb| |\\verb|=| 0.2 \\verb| |\\verb|:| 0.941$"
      ],
      "text/plain": [
       "'x =' 0.2 ' :' 0.941"
      ]
     },
     "execution_count": 10,
     "metadata": {
     },
     "output_type": "execute_result"
    },
    {
     "data": {
      "text/html": [
       "<html>\\(\\displaystyle \\verb|x|\\verb| |\\verb|=| 0.3 \\verb| |\\verb|:| 0.884\\)</html>"
      ],
      "text/latex": [
       "$\\displaystyle \\verb|x|\\verb| |\\verb|=| 0.3 \\verb| |\\verb|:| 0.884$"
      ],
      "text/plain": [
       "'x =' 0.3 ' :' 0.884"
      ]
     },
     "execution_count": 10,
     "metadata": {
     },
     "output_type": "execute_result"
    },
    {
     "data": {
      "text/html": [
       "<html>\\(\\displaystyle \\verb|x|\\verb| |\\verb|=| 0.4 \\verb| |\\verb|:| 0.814\\)</html>"
      ],
      "text/latex": [
       "$\\displaystyle \\verb|x|\\verb| |\\verb|=| 0.4 \\verb| |\\verb|:| 0.814$"
      ],
      "text/plain": [
       "'x =' 0.4 ' :' 0.814"
      ]
     },
     "execution_count": 10,
     "metadata": {
     },
     "output_type": "execute_result"
    },
    {
     "data": {
      "text/html": [
       "<html>\\(\\displaystyle \\verb|x|\\verb| |\\verb|=| 0.5 \\verb| |\\verb|:| 0.732\\)</html>"
      ],
      "text/latex": [
       "$\\displaystyle \\verb|x|\\verb| |\\verb|=| 0.5 \\verb| |\\verb|:| 0.732$"
      ],
      "text/plain": [
       "'x =' 0.5 ' :' 0.732"
      ]
     },
     "execution_count": 10,
     "metadata": {
     },
     "output_type": "execute_result"
    },
    {
     "data": {
      "text/html": [
       "<html>\\(\\displaystyle \\verb|x|\\verb| |\\verb|=| 0.6 \\verb| |\\verb|:| 0.644\\)</html>"
      ],
      "text/latex": [
       "$\\displaystyle \\verb|x|\\verb| |\\verb|=| 0.6 \\verb| |\\verb|:| 0.644$"
      ],
      "text/plain": [
       "'x =' 0.6 ' :' 0.644"
      ]
     },
     "execution_count": 10,
     "metadata": {
     },
     "output_type": "execute_result"
    },
    {
     "data": {
      "text/html": [
       "<html>\\(\\displaystyle \\verb|x|\\verb| |\\verb|=| 0.7 \\verb| |\\verb|:| 0.554\\)</html>"
      ],
      "text/latex": [
       "$\\displaystyle \\verb|x|\\verb| |\\verb|=| 0.7 \\verb| |\\verb|:| 0.554$"
      ],
      "text/plain": [
       "'x =' 0.7 ' :' 0.554"
      ]
     },
     "execution_count": 10,
     "metadata": {
     },
     "output_type": "execute_result"
    },
    {
     "data": {
      "text/html": [
       "<html>\\(\\displaystyle \\verb|x|\\verb| |\\verb|=| 0.8 \\verb| |\\verb|:| 0.465\\)</html>"
      ],
      "text/latex": [
       "$\\displaystyle \\verb|x|\\verb| |\\verb|=| 0.8 \\verb| |\\verb|:| 0.465$"
      ],
      "text/plain": [
       "'x =' 0.8 ' :' 0.465"
      ]
     },
     "execution_count": 10,
     "metadata": {
     },
     "output_type": "execute_result"
    },
    {
     "data": {
      "text/html": [
       "<html>\\(\\displaystyle \\verb|x|\\verb| |\\verb|=| 0.9 \\verb| |\\verb|:| 0.382\\)</html>"
      ],
      "text/latex": [
       "$\\displaystyle \\verb|x|\\verb| |\\verb|=| 0.9 \\verb| |\\verb|:| 0.382$"
      ],
      "text/plain": [
       "'x =' 0.9 ' :' 0.382"
      ]
     },
     "execution_count": 10,
     "metadata": {
     },
     "output_type": "execute_result"
    },
    {
     "data": {
      "text/html": [
       "<html>\\(\\displaystyle \\verb|x|\\verb| |\\verb|=| 1.0 \\verb| |\\verb|:| 0.305\\)</html>"
      ],
      "text/latex": [
       "$\\displaystyle \\verb|x|\\verb| |\\verb|=| 1.0 \\verb| |\\verb|:| 0.305$"
      ],
      "text/plain": [
       "'x =' 1.0 ' :' 0.305"
      ]
     },
     "execution_count": 10,
     "metadata": {
     },
     "output_type": "execute_result"
    },
    {
     "name": "stdout",
     "output_type": "stream",
     "text": [
      "\n"
     ]
    },
    {
     "data": {
      "text/html": [
       "<html>\\(\\displaystyle \\verb|Erreurs|\\)</html>"
      ],
      "text/latex": [
       "$\\displaystyle \\verb|Erreurs|$"
      ],
      "text/plain": [
       "'Erreurs'"
      ]
     },
     "execution_count": 10,
     "metadata": {
     },
     "output_type": "execute_result"
    },
    {
     "data": {
      "text/html": [
       "<html>\\(\\displaystyle \\verb|x|\\verb| |\\verb|=| 0.0 \\verb| |\\verb|:| 0.0\\)</html>"
      ],
      "text/latex": [
       "$\\displaystyle \\verb|x|\\verb| |\\verb|=| 0.0 \\verb| |\\verb|:| 0.0$"
      ],
      "text/plain": [
       "'x =' 0.0 ' :' 0.0"
      ]
     },
     "execution_count": 10,
     "metadata": {
     },
     "output_type": "execute_result"
    },
    {
     "data": {
      "text/html": [
       "<html>\\(\\displaystyle \\verb|x|\\verb| |\\verb|=| 0.1 \\verb| |\\verb|:| 0.01\\)</html>"
      ],
      "text/latex": [
       "$\\displaystyle \\verb|x|\\verb| |\\verb|=| 0.1 \\verb| |\\verb|:| 0.01$"
      ],
      "text/plain": [
       "'x =' 0.1 ' :' 0.01"
      ]
     },
     "execution_count": 10,
     "metadata": {
     },
     "output_type": "execute_result"
    },
    {
     "data": {
      "text/html": [
       "<html>\\(\\displaystyle \\verb|x|\\verb| |\\verb|=| 0.2 \\verb| |\\verb|:| 0.02\\)</html>"
      ],
      "text/latex": [
       "$\\displaystyle \\verb|x|\\verb| |\\verb|=| 0.2 \\verb| |\\verb|:| 0.02$"
      ],
      "text/plain": [
       "'x =' 0.2 ' :' 0.02"
      ]
     },
     "execution_count": 10,
     "metadata": {
     },
     "output_type": "execute_result"
    },
    {
     "data": {
      "text/html": [
       "<html>\\(\\displaystyle \\verb|x|\\verb| |\\verb|=| 0.3 \\verb| |\\verb|:| 0.03\\)</html>"
      ],
      "text/latex": [
       "$\\displaystyle \\verb|x|\\verb| |\\verb|=| 0.3 \\verb| |\\verb|:| 0.03$"
      ],
      "text/plain": [
       "'x =' 0.3 ' :' 0.03"
      ]
     },
     "execution_count": 10,
     "metadata": {
     },
     "output_type": "execute_result"
    },
    {
     "data": {
      "text/html": [
       "<html>\\(\\displaystyle \\verb|x|\\verb| |\\verb|=| 0.4 \\verb| |\\verb|:| 0.039\\)</html>"
      ],
      "text/latex": [
       "$\\displaystyle \\verb|x|\\verb| |\\verb|=| 0.4 \\verb| |\\verb|:| 0.039$"
      ],
      "text/plain": [
       "'x =' 0.4 ' :' 0.039"
      ]
     },
     "execution_count": 10,
     "metadata": {
     },
     "output_type": "execute_result"
    },
    {
     "data": {
      "text/html": [
       "<html>\\(\\displaystyle \\verb|x|\\verb| |\\verb|=| 0.5 \\verb| |\\verb|:| 0.047\\)</html>"
      ],
      "text/latex": [
       "$\\displaystyle \\verb|x|\\verb| |\\verb|=| 0.5 \\verb| |\\verb|:| 0.047$"
      ],
      "text/plain": [
       "'x =' 0.5 ' :' 0.047"
      ]
     },
     "execution_count": 10,
     "metadata": {
     },
     "output_type": "execute_result"
    },
    {
     "data": {
      "text/html": [
       "<html>\\(\\displaystyle \\verb|x|\\verb| |\\verb|=| 0.6 \\verb| |\\verb|:| 0.053\\)</html>"
      ],
      "text/latex": [
       "$\\displaystyle \\verb|x|\\verb| |\\verb|=| 0.6 \\verb| |\\verb|:| 0.053$"
      ],
      "text/plain": [
       "'x =' 0.6 ' :' 0.053"
      ]
     },
     "execution_count": 10,
     "metadata": {
     },
     "output_type": "execute_result"
    },
    {
     "data": {
      "text/html": [
       "<html>\\(\\displaystyle \\verb|x|\\verb| |\\verb|=| 0.7 \\verb| |\\verb|:| 0.058\\)</html>"
      ],
      "text/latex": [
       "$\\displaystyle \\verb|x|\\verb| |\\verb|=| 0.7 \\verb| |\\verb|:| 0.058$"
      ],
      "text/plain": [
       "'x =' 0.7 ' :' 0.058"
      ]
     },
     "execution_count": 10,
     "metadata": {
     },
     "output_type": "execute_result"
    },
    {
     "data": {
      "text/html": [
       "<html>\\(\\displaystyle \\verb|x|\\verb| |\\verb|=| 0.8 \\verb| |\\verb|:| 0.062\\)</html>"
      ],
      "text/latex": [
       "$\\displaystyle \\verb|x|\\verb| |\\verb|=| 0.8 \\verb| |\\verb|:| 0.062$"
      ],
      "text/plain": [
       "'x =' 0.8 ' :' 0.062"
      ]
     },
     "execution_count": 10,
     "metadata": {
     },
     "output_type": "execute_result"
    },
    {
     "data": {
      "text/html": [
       "<html>\\(\\displaystyle \\verb|x|\\verb| |\\verb|=| 0.9 \\verb| |\\verb|:| 0.063\\)</html>"
      ],
      "text/latex": [
       "$\\displaystyle \\verb|x|\\verb| |\\verb|=| 0.9 \\verb| |\\verb|:| 0.063$"
      ],
      "text/plain": [
       "'x =' 0.9 ' :' 0.063"
      ]
     },
     "execution_count": 10,
     "metadata": {
     },
     "output_type": "execute_result"
    },
    {
     "data": {
      "text/html": [
       "<html>\\(\\displaystyle \\verb|x|\\verb| |\\verb|=| 1.0 \\verb| |\\verb|:| 0.063\\)</html>"
      ],
      "text/latex": [
       "$\\displaystyle \\verb|x|\\verb| |\\verb|=| 1.0 \\verb| |\\verb|:| 0.063$"
      ],
      "text/plain": [
       "'x =' 1.0 ' :' 0.063"
      ]
     },
     "execution_count": 10,
     "metadata": {
     },
     "output_type": "execute_result"
    }
   ],
   "source": [
    "# Euler explicite\n",
    "def rectangles_gauche ():\n",
    "\n",
    "    # Calculs\n",
    "    resultats = []\n",
    "    prec = debut ()\n",
    "    y = yDebut ()\n",
    "\n",
    "    for x in numeric_range (debut () + ecart (), fin () + ecart () * 2, ecart ()):\n",
    "\n",
    "        y += prime (prec, y) * (x - prec)\n",
    "        resultats.append (y)\n",
    "        prec = x\n",
    "\n",
    "    return resultats\n",
    "\n",
    "\n",
    "show (\"Valeurs\")\n",
    "affichage (rectangles_gauche ())\n",
    "\n",
    "print ()\n",
    "show (\"Erreurs\")\n",
    "affichage (erreur (rectangles_gauche))\n"
   ]
  },
  {
   "cell_type": "code",
   "execution_count": 11,
   "metadata": {
    "collapsed": false,
    "scrolled": true
   },
   "outputs": [
    {
     "data": {
      "text/html": [
       "<html>\\(\\displaystyle \\verb|Valeurs|\\)</html>"
      ],
      "text/latex": [
       "$\\displaystyle \\verb|Valeurs|$"
      ],
      "text/plain": [
       "'Valeurs'"
      ]
     },
     "execution_count": 11,
     "metadata": {
     },
     "output_type": "execute_result"
    },
    {
     "data": {
      "text/html": [
       "<html>\\(\\displaystyle \\verb|x|\\verb| |\\verb|=| 0.0 \\verb| |\\verb|:| 0.98\\)</html>"
      ],
      "text/latex": [
       "$\\displaystyle \\verb|x|\\verb| |\\verb|=| 0.0 \\verb| |\\verb|:| 0.98$"
      ],
      "text/plain": [
       "'x =' 0.0 ' :' 0.98"
      ]
     },
     "execution_count": 11,
     "metadata": {
     },
     "output_type": "execute_result"
    },
    {
     "data": {
      "text/html": [
       "<html>\\(\\displaystyle \\verb|x|\\verb| |\\verb|=| 0.1 \\verb| |\\verb|:| 0.941\\)</html>"
      ],
      "text/latex": [
       "$\\displaystyle \\verb|x|\\verb| |\\verb|=| 0.1 \\verb| |\\verb|:| 0.941$"
      ],
      "text/plain": [
       "'x =' 0.1 ' :' 0.941"
      ]
     },
     "execution_count": 11,
     "metadata": {
     },
     "output_type": "execute_result"
    },
    {
     "data": {
      "text/html": [
       "<html>\\(\\displaystyle \\verb|x|\\verb| |\\verb|=| 0.2 \\verb| |\\verb|:| 0.884\\)</html>"
      ],
      "text/latex": [
       "$\\displaystyle \\verb|x|\\verb| |\\verb|=| 0.2 \\verb| |\\verb|:| 0.884$"
      ],
      "text/plain": [
       "'x =' 0.2 ' :' 0.884"
      ]
     },
     "execution_count": 11,
     "metadata": {
     },
     "output_type": "execute_result"
    },
    {
     "data": {
      "text/html": [
       "<html>\\(\\displaystyle \\verb|x|\\verb| |\\verb|=| 0.3 \\verb| |\\verb|:| 0.814\\)</html>"
      ],
      "text/latex": [
       "$\\displaystyle \\verb|x|\\verb| |\\verb|=| 0.3 \\verb| |\\verb|:| 0.814$"
      ],
      "text/plain": [
       "'x =' 0.3 ' :' 0.814"
      ]
     },
     "execution_count": 11,
     "metadata": {
     },
     "output_type": "execute_result"
    },
    {
     "data": {
      "text/html": [
       "<html>\\(\\displaystyle \\verb|x|\\verb| |\\verb|=| 0.4 \\verb| |\\verb|:| 0.732\\)</html>"
      ],
      "text/latex": [
       "$\\displaystyle \\verb|x|\\verb| |\\verb|=| 0.4 \\verb| |\\verb|:| 0.732$"
      ],
      "text/plain": [
       "'x =' 0.4 ' :' 0.732"
      ]
     },
     "execution_count": 11,
     "metadata": {
     },
     "output_type": "execute_result"
    },
    {
     "data": {
      "text/html": [
       "<html>\\(\\displaystyle \\verb|x|\\verb| |\\verb|=| 0.5 \\verb| |\\verb|:| 0.644\\)</html>"
      ],
      "text/latex": [
       "$\\displaystyle \\verb|x|\\verb| |\\verb|=| 0.5 \\verb| |\\verb|:| 0.644$"
      ],
      "text/plain": [
       "'x =' 0.5 ' :' 0.644"
      ]
     },
     "execution_count": 11,
     "metadata": {
     },
     "output_type": "execute_result"
    },
    {
     "data": {
      "text/html": [
       "<html>\\(\\displaystyle \\verb|x|\\verb| |\\verb|=| 0.6 \\verb| |\\verb|:| 0.554\\)</html>"
      ],
      "text/latex": [
       "$\\displaystyle \\verb|x|\\verb| |\\verb|=| 0.6 \\verb| |\\verb|:| 0.554$"
      ],
      "text/plain": [
       "'x =' 0.6 ' :' 0.554"
      ]
     },
     "execution_count": 11,
     "metadata": {
     },
     "output_type": "execute_result"
    },
    {
     "data": {
      "text/html": [
       "<html>\\(\\displaystyle \\verb|x|\\verb| |\\verb|=| 0.7 \\verb| |\\verb|:| 0.465\\)</html>"
      ],
      "text/latex": [
       "$\\displaystyle \\verb|x|\\verb| |\\verb|=| 0.7 \\verb| |\\verb|:| 0.465$"
      ],
      "text/plain": [
       "'x =' 0.7 ' :' 0.465"
      ]
     },
     "execution_count": 11,
     "metadata": {
     },
     "output_type": "execute_result"
    },
    {
     "data": {
      "text/html": [
       "<html>\\(\\displaystyle \\verb|x|\\verb| |\\verb|=| 0.8 \\verb| |\\verb|:| 0.382\\)</html>"
      ],
      "text/latex": [
       "$\\displaystyle \\verb|x|\\verb| |\\verb|=| 0.8 \\verb| |\\verb|:| 0.382$"
      ],
      "text/plain": [
       "'x =' 0.8 ' :' 0.382"
      ]
     },
     "execution_count": 11,
     "metadata": {
     },
     "output_type": "execute_result"
    },
    {
     "data": {
      "text/html": [
       "<html>\\(\\displaystyle \\verb|x|\\verb| |\\verb|=| 0.9 \\verb| |\\verb|:| 0.305\\)</html>"
      ],
      "text/latex": [
       "$\\displaystyle \\verb|x|\\verb| |\\verb|=| 0.9 \\verb| |\\verb|:| 0.305$"
      ],
      "text/plain": [
       "'x =' 0.9 ' :' 0.305"
      ]
     },
     "execution_count": 11,
     "metadata": {
     },
     "output_type": "execute_result"
    },
    {
     "data": {
      "text/html": [
       "<html>\\(\\displaystyle \\verb|x|\\verb| |\\verb|=| 1.0 \\verb| |\\verb|:| 0.238\\)</html>"
      ],
      "text/latex": [
       "$\\displaystyle \\verb|x|\\verb| |\\verb|=| 1.0 \\verb| |\\verb|:| 0.238$"
      ],
      "text/plain": [
       "'x =' 1.0 ' :' 0.238"
      ]
     },
     "execution_count": 11,
     "metadata": {
     },
     "output_type": "execute_result"
    },
    {
     "name": "stdout",
     "output_type": "stream",
     "text": [
      "\n"
     ]
    },
    {
     "data": {
      "text/html": [
       "<html>\\(\\displaystyle \\verb|Erreurs|\\)</html>"
      ],
      "text/latex": [
       "$\\displaystyle \\verb|Erreurs|$"
      ],
      "text/plain": [
       "'Erreurs'"
      ]
     },
     "execution_count": 11,
     "metadata": {
     },
     "output_type": "execute_result"
    },
    {
     "data": {
      "text/html": [
       "<html>\\(\\displaystyle \\verb|x|\\verb| |\\verb|=| 0.0 \\verb| |\\verb|:| 0.02\\)</html>"
      ],
      "text/latex": [
       "$\\displaystyle \\verb|x|\\verb| |\\verb|=| 0.0 \\verb| |\\verb|:| 0.02$"
      ],
      "text/plain": [
       "'x =' 0.0 ' :' 0.02"
      ]
     },
     "execution_count": 11,
     "metadata": {
     },
     "output_type": "execute_result"
    },
    {
     "data": {
      "text/html": [
       "<html>\\(\\displaystyle \\verb|x|\\verb| |\\verb|=| 0.1 \\verb| |\\verb|:| 0.049\\)</html>"
      ],
      "text/latex": [
       "$\\displaystyle \\verb|x|\\verb| |\\verb|=| 0.1 \\verb| |\\verb|:| 0.049$"
      ],
      "text/plain": [
       "'x =' 0.1 ' :' 0.049"
      ]
     },
     "execution_count": 11,
     "metadata": {
     },
     "output_type": "execute_result"
    },
    {
     "data": {
      "text/html": [
       "<html>\\(\\displaystyle \\verb|x|\\verb| |\\verb|=| 0.2 \\verb| |\\verb|:| 0.076\\)</html>"
      ],
      "text/latex": [
       "$\\displaystyle \\verb|x|\\verb| |\\verb|=| 0.2 \\verb| |\\verb|:| 0.076$"
      ],
      "text/plain": [
       "'x =' 0.2 ' :' 0.076"
      ]
     },
     "execution_count": 11,
     "metadata": {
     },
     "output_type": "execute_result"
    },
    {
     "data": {
      "text/html": [
       "<html>\\(\\displaystyle \\verb|x|\\verb| |\\verb|=| 0.3 \\verb| |\\verb|:| 0.1\\)</html>"
      ],
      "text/latex": [
       "$\\displaystyle \\verb|x|\\verb| |\\verb|=| 0.3 \\verb| |\\verb|:| 0.1$"
      ],
      "text/plain": [
       "'x =' 0.3 ' :' 0.1"
      ]
     },
     "execution_count": 11,
     "metadata": {
     },
     "output_type": "execute_result"
    },
    {
     "data": {
      "text/html": [
       "<html>\\(\\displaystyle \\verb|x|\\verb| |\\verb|=| 0.4 \\verb| |\\verb|:| 0.12\\)</html>"
      ],
      "text/latex": [
       "$\\displaystyle \\verb|x|\\verb| |\\verb|=| 0.4 \\verb| |\\verb|:| 0.12$"
      ],
      "text/plain": [
       "'x =' 0.4 ' :' 0.12"
      ]
     },
     "execution_count": 11,
     "metadata": {
     },
     "output_type": "execute_result"
    },
    {
     "data": {
      "text/html": [
       "<html>\\(\\displaystyle \\verb|x|\\verb| |\\verb|=| 0.5 \\verb| |\\verb|:| 0.134\\)</html>"
      ],
      "text/latex": [
       "$\\displaystyle \\verb|x|\\verb| |\\verb|=| 0.5 \\verb| |\\verb|:| 0.134$"
      ],
      "text/plain": [
       "'x =' 0.5 ' :' 0.134"
      ]
     },
     "execution_count": 11,
     "metadata": {
     },
     "output_type": "execute_result"
    },
    {
     "data": {
      "text/html": [
       "<html>\\(\\displaystyle \\verb|x|\\verb| |\\verb|=| 0.6 \\verb| |\\verb|:| 0.144\\)</html>"
      ],
      "text/latex": [
       "$\\displaystyle \\verb|x|\\verb| |\\verb|=| 0.6 \\verb| |\\verb|:| 0.144$"
      ],
      "text/plain": [
       "'x =' 0.6 ' :' 0.144"
      ]
     },
     "execution_count": 11,
     "metadata": {
     },
     "output_type": "execute_result"
    },
    {
     "data": {
      "text/html": [
       "<html>\\(\\displaystyle \\verb|x|\\verb| |\\verb|=| 0.7 \\verb| |\\verb|:| 0.147\\)</html>"
      ],
      "text/latex": [
       "$\\displaystyle \\verb|x|\\verb| |\\verb|=| 0.7 \\verb| |\\verb|:| 0.147$"
      ],
      "text/plain": [
       "'x =' 0.7 ' :' 0.147"
      ]
     },
     "execution_count": 11,
     "metadata": {
     },
     "output_type": "execute_result"
    },
    {
     "data": {
      "text/html": [
       "<html>\\(\\displaystyle \\verb|x|\\verb| |\\verb|=| 0.8 \\verb| |\\verb|:| 0.146\\)</html>"
      ],
      "text/latex": [
       "$\\displaystyle \\verb|x|\\verb| |\\verb|=| 0.8 \\verb| |\\verb|:| 0.146$"
      ],
      "text/plain": [
       "'x =' 0.8 ' :' 0.146"
      ]
     },
     "execution_count": 11,
     "metadata": {
     },
     "output_type": "execute_result"
    },
    {
     "data": {
      "text/html": [
       "<html>\\(\\displaystyle \\verb|x|\\verb| |\\verb|=| 0.9 \\verb| |\\verb|:| 0.139\\)</html>"
      ],
      "text/latex": [
       "$\\displaystyle \\verb|x|\\verb| |\\verb|=| 0.9 \\verb| |\\verb|:| 0.139$"
      ],
      "text/plain": [
       "'x =' 0.9 ' :' 0.139"
      ]
     },
     "execution_count": 11,
     "metadata": {
     },
     "output_type": "execute_result"
    },
    {
     "data": {
      "text/html": [
       "<html>\\(\\displaystyle \\verb|x|\\verb| |\\verb|=| 1.0 \\verb| |\\verb|:| 0.13\\)</html>"
      ],
      "text/latex": [
       "$\\displaystyle \\verb|x|\\verb| |\\verb|=| 1.0 \\verb| |\\verb|:| 0.13$"
      ],
      "text/plain": [
       "'x =' 1.0 ' :' 0.13"
      ]
     },
     "execution_count": 11,
     "metadata": {
     },
     "output_type": "execute_result"
    }
   ],
   "source": [
    "# Euler implicite\n",
    "def rectangles_droite ():\n",
    "\n",
    "    # Calculs\n",
    "    resultats = []\n",
    "    prec = debut ()\n",
    "    y = yDebut ()\n",
    "\n",
    "    for x in numeric_range (debut () + ecart (), fin () + ecart () * 2, ecart ()):\n",
    "\n",
    "        y += prime (x, y) * (x - prec)\n",
    "        resultats.append (y)\n",
    "        prec = x\n",
    "\n",
    "    return resultats\n",
    "\n",
    "\n",
    "show (\"Valeurs\")\n",
    "affichage (rectangles_droite ())\n",
    "\n",
    "print ()\n",
    "show (\"Erreurs\")\n",
    "affichage (erreur (rectangles_droite))"
   ]
  },
  {
   "cell_type": "code",
   "execution_count": 12,
   "metadata": {
    "collapsed": false
   },
   "outputs": [
    {
     "data": {
      "text/html": [
       "<html>\\(\\displaystyle \\verb|Valeurs|\\)</html>"
      ],
      "text/latex": [
       "$\\displaystyle \\verb|Valeurs|$"
      ],
      "text/plain": [
       "'Valeurs'"
      ]
     },
     "execution_count": 12,
     "metadata": {
     },
     "output_type": "execute_result"
    },
    {
     "data": {
      "text/html": [
       "<html>\\(\\displaystyle \\verb|x|\\verb| |\\verb|=| 0.0 \\verb| |\\verb|:| 0.99\\)</html>"
      ],
      "text/latex": [
       "$\\displaystyle \\verb|x|\\verb| |\\verb|=| 0.0 \\verb| |\\verb|:| 0.99$"
      ],
      "text/plain": [
       "'x =' 0.0 ' :' 0.99"
      ]
     },
     "execution_count": 12,
     "metadata": {
     },
     "output_type": "execute_result"
    },
    {
     "data": {
      "text/html": [
       "<html>\\(\\displaystyle \\verb|x|\\verb| |\\verb|=| 0.1 \\verb| |\\verb|:| 0.96\\)</html>"
      ],
      "text/latex": [
       "$\\displaystyle \\verb|x|\\verb| |\\verb|=| 0.1 \\verb| |\\verb|:| 0.96$"
      ],
      "text/plain": [
       "'x =' 0.1 ' :' 0.96"
      ]
     },
     "execution_count": 12,
     "metadata": {
     },
     "output_type": "execute_result"
    },
    {
     "data": {
      "text/html": [
       "<html>\\(\\displaystyle \\verb|x|\\verb| |\\verb|=| 0.2 \\verb| |\\verb|:| 0.912\\)</html>"
      ],
      "text/latex": [
       "$\\displaystyle \\verb|x|\\verb| |\\verb|=| 0.2 \\verb| |\\verb|:| 0.912$"
      ],
      "text/plain": [
       "'x =' 0.2 ' :' 0.912"
      ]
     },
     "execution_count": 12,
     "metadata": {
     },
     "output_type": "execute_result"
    },
    {
     "data": {
      "text/html": [
       "<html>\\(\\displaystyle \\verb|x|\\verb| |\\verb|=| 0.3 \\verb| |\\verb|:| 0.848\\)</html>"
      ],
      "text/latex": [
       "$\\displaystyle \\verb|x|\\verb| |\\verb|=| 0.3 \\verb| |\\verb|:| 0.848$"
      ],
      "text/plain": [
       "'x =' 0.3 ' :' 0.848"
      ]
     },
     "execution_count": 12,
     "metadata": {
     },
     "output_type": "execute_result"
    },
    {
     "data": {
      "text/html": [
       "<html>\\(\\displaystyle \\verb|x|\\verb| |\\verb|=| 0.4 \\verb| |\\verb|:| 0.772\\)</html>"
      ],
      "text/latex": [
       "$\\displaystyle \\verb|x|\\verb| |\\verb|=| 0.4 \\verb| |\\verb|:| 0.772$"
      ],
      "text/plain": [
       "'x =' 0.4 ' :' 0.772"
      ]
     },
     "execution_count": 12,
     "metadata": {
     },
     "output_type": "execute_result"
    },
    {
     "data": {
      "text/html": [
       "<html>\\(\\displaystyle \\verb|x|\\verb| |\\verb|=| 0.5 \\verb| |\\verb|:| 0.687\\)</html>"
      ],
      "text/latex": [
       "$\\displaystyle \\verb|x|\\verb| |\\verb|=| 0.5 \\verb| |\\verb|:| 0.687$"
      ],
      "text/plain": [
       "'x =' 0.5 ' :' 0.687"
      ]
     },
     "execution_count": 12,
     "metadata": {
     },
     "output_type": "execute_result"
    },
    {
     "data": {
      "text/html": [
       "<html>\\(\\displaystyle \\verb|x|\\verb| |\\verb|=| 0.6 \\verb| |\\verb|:| 0.598\\)</html>"
      ],
      "text/latex": [
       "$\\displaystyle \\verb|x|\\verb| |\\verb|=| 0.6 \\verb| |\\verb|:| 0.598$"
      ],
      "text/plain": [
       "'x =' 0.6 ' :' 0.598"
      ]
     },
     "execution_count": 12,
     "metadata": {
     },
     "output_type": "execute_result"
    },
    {
     "data": {
      "text/html": [
       "<html>\\(\\displaystyle \\verb|x|\\verb| |\\verb|=| 0.7 \\verb| |\\verb|:| 0.508\\)</html>"
      ],
      "text/latex": [
       "$\\displaystyle \\verb|x|\\verb| |\\verb|=| 0.7 \\verb| |\\verb|:| 0.508$"
      ],
      "text/plain": [
       "'x =' 0.7 ' :' 0.508"
      ]
     },
     "execution_count": 12,
     "metadata": {
     },
     "output_type": "execute_result"
    },
    {
     "data": {
      "text/html": [
       "<html>\\(\\displaystyle \\verb|x|\\verb| |\\verb|=| 0.8 \\verb| |\\verb|:| 0.422\\)</html>"
      ],
      "text/latex": [
       "$\\displaystyle \\verb|x|\\verb| |\\verb|=| 0.8 \\verb| |\\verb|:| 0.422$"
      ],
      "text/plain": [
       "'x =' 0.8 ' :' 0.422"
      ]
     },
     "execution_count": 12,
     "metadata": {
     },
     "output_type": "execute_result"
    },
    {
     "data": {
      "text/html": [
       "<html>\\(\\displaystyle \\verb|x|\\verb| |\\verb|=| 0.9 \\verb| |\\verb|:| 0.342\\)</html>"
      ],
      "text/latex": [
       "$\\displaystyle \\verb|x|\\verb| |\\verb|=| 0.9 \\verb| |\\verb|:| 0.342$"
      ],
      "text/plain": [
       "'x =' 0.9 ' :' 0.342"
      ]
     },
     "execution_count": 12,
     "metadata": {
     },
     "output_type": "execute_result"
    },
    {
     "data": {
      "text/html": [
       "<html>\\(\\displaystyle \\verb|x|\\verb| |\\verb|=| 1.0 \\verb| |\\verb|:| 0.27\\)</html>"
      ],
      "text/latex": [
       "$\\displaystyle \\verb|x|\\verb| |\\verb|=| 1.0 \\verb| |\\verb|:| 0.27$"
      ],
      "text/plain": [
       "'x =' 1.0 ' :' 0.27"
      ]
     },
     "execution_count": 12,
     "metadata": {
     },
     "output_type": "execute_result"
    },
    {
     "name": "stdout",
     "output_type": "stream",
     "text": [
      "\n"
     ]
    },
    {
     "data": {
      "text/html": [
       "<html>\\(\\displaystyle \\verb|Erreurs|\\)</html>"
      ],
      "text/latex": [
       "$\\displaystyle \\verb|Erreurs|$"
      ],
      "text/plain": [
       "'Erreurs'"
      ]
     },
     "execution_count": 12,
     "metadata": {
     },
     "output_type": "execute_result"
    },
    {
     "data": {
      "text/html": [
       "<html>\\(\\displaystyle \\verb|x|\\verb| |\\verb|=| 0.0 \\verb| |\\verb|:| 0.01\\)</html>"
      ],
      "text/latex": [
       "$\\displaystyle \\verb|x|\\verb| |\\verb|=| 0.0 \\verb| |\\verb|:| 0.01$"
      ],
      "text/plain": [
       "'x =' 0.0 ' :' 0.01"
      ]
     },
     "execution_count": 12,
     "metadata": {
     },
     "output_type": "execute_result"
    },
    {
     "data": {
      "text/html": [
       "<html>\\(\\displaystyle \\verb|x|\\verb| |\\verb|=| 0.1 \\verb| |\\verb|:| 0.03\\)</html>"
      ],
      "text/latex": [
       "$\\displaystyle \\verb|x|\\verb| |\\verb|=| 0.1 \\verb| |\\verb|:| 0.03$"
      ],
      "text/plain": [
       "'x =' 0.1 ' :' 0.03"
      ]
     },
     "execution_count": 12,
     "metadata": {
     },
     "output_type": "execute_result"
    },
    {
     "data": {
      "text/html": [
       "<html>\\(\\displaystyle \\verb|x|\\verb| |\\verb|=| 0.2 \\verb| |\\verb|:| 0.049\\)</html>"
      ],
      "text/latex": [
       "$\\displaystyle \\verb|x|\\verb| |\\verb|=| 0.2 \\verb| |\\verb|:| 0.049$"
      ],
      "text/plain": [
       "'x =' 0.2 ' :' 0.049"
      ]
     },
     "execution_count": 12,
     "metadata": {
     },
     "output_type": "execute_result"
    },
    {
     "data": {
      "text/html": [
       "<html>\\(\\displaystyle \\verb|x|\\verb| |\\verb|=| 0.3 \\verb| |\\verb|:| 0.066\\)</html>"
      ],
      "text/latex": [
       "$\\displaystyle \\verb|x|\\verb| |\\verb|=| 0.3 \\verb| |\\verb|:| 0.066$"
      ],
      "text/plain": [
       "'x =' 0.3 ' :' 0.066"
      ]
     },
     "execution_count": 12,
     "metadata": {
     },
     "output_type": "execute_result"
    },
    {
     "data": {
      "text/html": [
       "<html>\\(\\displaystyle \\verb|x|\\verb| |\\verb|=| 0.4 \\verb| |\\verb|:| 0.08\\)</html>"
      ],
      "text/latex": [
       "$\\displaystyle \\verb|x|\\verb| |\\verb|=| 0.4 \\verb| |\\verb|:| 0.08$"
      ],
      "text/plain": [
       "'x =' 0.4 ' :' 0.08"
      ]
     },
     "execution_count": 12,
     "metadata": {
     },
     "output_type": "execute_result"
    },
    {
     "data": {
      "text/html": [
       "<html>\\(\\displaystyle \\verb|x|\\verb| |\\verb|=| 0.5 \\verb| |\\verb|:| 0.092\\)</html>"
      ],
      "text/latex": [
       "$\\displaystyle \\verb|x|\\verb| |\\verb|=| 0.5 \\verb| |\\verb|:| 0.092$"
      ],
      "text/plain": [
       "'x =' 0.5 ' :' 0.092"
      ]
     },
     "execution_count": 12,
     "metadata": {
     },
     "output_type": "execute_result"
    },
    {
     "data": {
      "text/html": [
       "<html>\\(\\displaystyle \\verb|x|\\verb| |\\verb|=| 0.6 \\verb| |\\verb|:| 0.1\\)</html>"
      ],
      "text/latex": [
       "$\\displaystyle \\verb|x|\\verb| |\\verb|=| 0.6 \\verb| |\\verb|:| 0.1$"
      ],
      "text/plain": [
       "'x =' 0.6 ' :' 0.1"
      ]
     },
     "execution_count": 12,
     "metadata": {
     },
     "output_type": "execute_result"
    },
    {
     "data": {
      "text/html": [
       "<html>\\(\\displaystyle \\verb|x|\\verb| |\\verb|=| 0.7 \\verb| |\\verb|:| 0.104\\)</html>"
      ],
      "text/latex": [
       "$\\displaystyle \\verb|x|\\verb| |\\verb|=| 0.7 \\verb| |\\verb|:| 0.104$"
      ],
      "text/plain": [
       "'x =' 0.7 ' :' 0.104"
      ]
     },
     "execution_count": 12,
     "metadata": {
     },
     "output_type": "execute_result"
    },
    {
     "data": {
      "text/html": [
       "<html>\\(\\displaystyle \\verb|x|\\verb| |\\verb|=| 0.8 \\verb| |\\verb|:| 0.106\\)</html>"
      ],
      "text/latex": [
       "$\\displaystyle \\verb|x|\\verb| |\\verb|=| 0.8 \\verb| |\\verb|:| 0.106$"
      ],
      "text/plain": [
       "'x =' 0.8 ' :' 0.106"
      ]
     },
     "execution_count": 12,
     "metadata": {
     },
     "output_type": "execute_result"
    },
    {
     "data": {
      "text/html": [
       "<html>\\(\\displaystyle \\verb|x|\\verb| |\\verb|=| 0.9 \\verb| |\\verb|:| 0.103\\)</html>"
      ],
      "text/latex": [
       "$\\displaystyle \\verb|x|\\verb| |\\verb|=| 0.9 \\verb| |\\verb|:| 0.103$"
      ],
      "text/plain": [
       "'x =' 0.9 ' :' 0.103"
      ]
     },
     "execution_count": 12,
     "metadata": {
     },
     "output_type": "execute_result"
    },
    {
     "data": {
      "text/html": [
       "<html>\\(\\displaystyle \\verb|x|\\verb| |\\verb|=| 1.0 \\verb| |\\verb|:| 0.098\\)</html>"
      ],
      "text/latex": [
       "$\\displaystyle \\verb|x|\\verb| |\\verb|=| 1.0 \\verb| |\\verb|:| 0.098$"
      ],
      "text/plain": [
       "'x =' 1.0 ' :' 0.098"
      ]
     },
     "execution_count": 12,
     "metadata": {
     },
     "output_type": "execute_result"
    }
   ],
   "source": [
    "# Euler modifie\n",
    "def point_milieu ():\n",
    "\n",
    "    # Calculs\n",
    "    resultats = []\n",
    "    prec = debut ()\n",
    "    y = yDebut ()\n",
    "\n",
    "    for x in numeric_range (debut () + ecart (), fin () + ecart () * 2, ecart ()):\n",
    "\n",
    "        y += prime (prec + ecart () / 2, y) * (x - prec)\n",
    "        resultats.append (y)\n",
    "        prec = x\n",
    "\n",
    "    return resultats\n",
    "\n",
    "\n",
    "show (\"Valeurs\")\n",
    "affichage (point_milieu ())\n",
    "\n",
    "print ()\n",
    "show (\"Erreurs\")\n",
    "affichage (erreur (point_milieu))"
   ]
  },
  {
   "cell_type": "code",
   "execution_count": 13,
   "metadata": {
    "collapsed": false
   },
   "outputs": [
    {
     "data": {
      "text/html": [
       "<html>\\(\\displaystyle \\verb|Valeurs|\\)</html>"
      ],
      "text/latex": [
       "$\\displaystyle \\verb|Valeurs|$"
      ],
      "text/plain": [
       "'Valeurs'"
      ]
     },
     "execution_count": 13,
     "metadata": {
     },
     "output_type": "execute_result"
    },
    {
     "data": {
      "text/html": [
       "<html>\\(\\displaystyle \\verb|x|\\verb| |\\verb|=| 0.0 \\verb| |\\verb|:| 0.99\\)</html>"
      ],
      "text/latex": [
       "$\\displaystyle \\verb|x|\\verb| |\\verb|=| 0.0 \\verb| |\\verb|:| 0.99$"
      ],
      "text/plain": [
       "'x =' 0.0 ' :' 0.99"
      ]
     },
     "execution_count": 13,
     "metadata": {
     },
     "output_type": "execute_result"
    },
    {
     "data": {
      "text/html": [
       "<html>\\(\\displaystyle \\verb|x|\\verb| |\\verb|=| 0.1 \\verb| |\\verb|:| 0.96\\)</html>"
      ],
      "text/latex": [
       "$\\displaystyle \\verb|x|\\verb| |\\verb|=| 0.1 \\verb| |\\verb|:| 0.96$"
      ],
      "text/plain": [
       "'x =' 0.1 ' :' 0.96"
      ]
     },
     "execution_count": 13,
     "metadata": {
     },
     "output_type": "execute_result"
    },
    {
     "data": {
      "text/html": [
       "<html>\\(\\displaystyle \\verb|x|\\verb| |\\verb|=| 0.2 \\verb| |\\verb|:| 0.912\\)</html>"
      ],
      "text/latex": [
       "$\\displaystyle \\verb|x|\\verb| |\\verb|=| 0.2 \\verb| |\\verb|:| 0.912$"
      ],
      "text/plain": [
       "'x =' 0.2 ' :' 0.912"
      ]
     },
     "execution_count": 13,
     "metadata": {
     },
     "output_type": "execute_result"
    },
    {
     "data": {
      "text/html": [
       "<html>\\(\\displaystyle \\verb|x|\\verb| |\\verb|=| 0.3 \\verb| |\\verb|:| 0.848\\)</html>"
      ],
      "text/latex": [
       "$\\displaystyle \\verb|x|\\verb| |\\verb|=| 0.3 \\verb| |\\verb|:| 0.848$"
      ],
      "text/plain": [
       "'x =' 0.3 ' :' 0.848"
      ]
     },
     "execution_count": 13,
     "metadata": {
     },
     "output_type": "execute_result"
    },
    {
     "data": {
      "text/html": [
       "<html>\\(\\displaystyle \\verb|x|\\verb| |\\verb|=| 0.4 \\verb| |\\verb|:| 0.772\\)</html>"
      ],
      "text/latex": [
       "$\\displaystyle \\verb|x|\\verb| |\\verb|=| 0.4 \\verb| |\\verb|:| 0.772$"
      ],
      "text/plain": [
       "'x =' 0.4 ' :' 0.772"
      ]
     },
     "execution_count": 13,
     "metadata": {
     },
     "output_type": "execute_result"
    },
    {
     "data": {
      "text/html": [
       "<html>\\(\\displaystyle \\verb|x|\\verb| |\\verb|=| 0.5 \\verb| |\\verb|:| 0.687\\)</html>"
      ],
      "text/latex": [
       "$\\displaystyle \\verb|x|\\verb| |\\verb|=| 0.5 \\verb| |\\verb|:| 0.687$"
      ],
      "text/plain": [
       "'x =' 0.5 ' :' 0.687"
      ]
     },
     "execution_count": 13,
     "metadata": {
     },
     "output_type": "execute_result"
    },
    {
     "data": {
      "text/html": [
       "<html>\\(\\displaystyle \\verb|x|\\verb| |\\verb|=| 0.6 \\verb| |\\verb|:| 0.598\\)</html>"
      ],
      "text/latex": [
       "$\\displaystyle \\verb|x|\\verb| |\\verb|=| 0.6 \\verb| |\\verb|:| 0.598$"
      ],
      "text/plain": [
       "'x =' 0.6 ' :' 0.598"
      ]
     },
     "execution_count": 13,
     "metadata": {
     },
     "output_type": "execute_result"
    },
    {
     "data": {
      "text/html": [
       "<html>\\(\\displaystyle \\verb|x|\\verb| |\\verb|=| 0.7 \\verb| |\\verb|:| 0.508\\)</html>"
      ],
      "text/latex": [
       "$\\displaystyle \\verb|x|\\verb| |\\verb|=| 0.7 \\verb| |\\verb|:| 0.508$"
      ],
      "text/plain": [
       "'x =' 0.7 ' :' 0.508"
      ]
     },
     "execution_count": 13,
     "metadata": {
     },
     "output_type": "execute_result"
    },
    {
     "data": {
      "text/html": [
       "<html>\\(\\displaystyle \\verb|x|\\verb| |\\verb|=| 0.8 \\verb| |\\verb|:| 0.422\\)</html>"
      ],
      "text/latex": [
       "$\\displaystyle \\verb|x|\\verb| |\\verb|=| 0.8 \\verb| |\\verb|:| 0.422$"
      ],
      "text/plain": [
       "'x =' 0.8 ' :' 0.422"
      ]
     },
     "execution_count": 13,
     "metadata": {
     },
     "output_type": "execute_result"
    },
    {
     "data": {
      "text/html": [
       "<html>\\(\\displaystyle \\verb|x|\\verb| |\\verb|=| 0.9 \\verb| |\\verb|:| 0.342\\)</html>"
      ],
      "text/latex": [
       "$\\displaystyle \\verb|x|\\verb| |\\verb|=| 0.9 \\verb| |\\verb|:| 0.342$"
      ],
      "text/plain": [
       "'x =' 0.9 ' :' 0.342"
      ]
     },
     "execution_count": 13,
     "metadata": {
     },
     "output_type": "execute_result"
    },
    {
     "data": {
      "text/html": [
       "<html>\\(\\displaystyle \\verb|x|\\verb| |\\verb|=| 1.0 \\verb| |\\verb|:| 0.27\\)</html>"
      ],
      "text/latex": [
       "$\\displaystyle \\verb|x|\\verb| |\\verb|=| 1.0 \\verb| |\\verb|:| 0.27$"
      ],
      "text/plain": [
       "'x =' 1.0 ' :' 0.27"
      ]
     },
     "execution_count": 13,
     "metadata": {
     },
     "output_type": "execute_result"
    },
    {
     "name": "stdout",
     "output_type": "stream",
     "text": [
      "\n"
     ]
    },
    {
     "data": {
      "text/html": [
       "<html>\\(\\displaystyle \\verb|Erreurs|\\)</html>"
      ],
      "text/latex": [
       "$\\displaystyle \\verb|Erreurs|$"
      ],
      "text/plain": [
       "'Erreurs'"
      ]
     },
     "execution_count": 13,
     "metadata": {
     },
     "output_type": "execute_result"
    },
    {
     "data": {
      "text/html": [
       "<html>\\(\\displaystyle \\verb|x|\\verb| |\\verb|=| 0.0 \\verb| |\\verb|:| 0.01\\)</html>"
      ],
      "text/latex": [
       "$\\displaystyle \\verb|x|\\verb| |\\verb|=| 0.0 \\verb| |\\verb|:| 0.01$"
      ],
      "text/plain": [
       "'x =' 0.0 ' :' 0.01"
      ]
     },
     "execution_count": 13,
     "metadata": {
     },
     "output_type": "execute_result"
    },
    {
     "data": {
      "text/html": [
       "<html>\\(\\displaystyle \\verb|x|\\verb| |\\verb|=| 0.1 \\verb| |\\verb|:| 0.03\\)</html>"
      ],
      "text/latex": [
       "$\\displaystyle \\verb|x|\\verb| |\\verb|=| 0.1 \\verb| |\\verb|:| 0.03$"
      ],
      "text/plain": [
       "'x =' 0.1 ' :' 0.03"
      ]
     },
     "execution_count": 13,
     "metadata": {
     },
     "output_type": "execute_result"
    },
    {
     "data": {
      "text/html": [
       "<html>\\(\\displaystyle \\verb|x|\\verb| |\\verb|=| 0.2 \\verb| |\\verb|:| 0.049\\)</html>"
      ],
      "text/latex": [
       "$\\displaystyle \\verb|x|\\verb| |\\verb|=| 0.2 \\verb| |\\verb|:| 0.049$"
      ],
      "text/plain": [
       "'x =' 0.2 ' :' 0.049"
      ]
     },
     "execution_count": 13,
     "metadata": {
     },
     "output_type": "execute_result"
    },
    {
     "data": {
      "text/html": [
       "<html>\\(\\displaystyle \\verb|x|\\verb| |\\verb|=| 0.3 \\verb| |\\verb|:| 0.066\\)</html>"
      ],
      "text/latex": [
       "$\\displaystyle \\verb|x|\\verb| |\\verb|=| 0.3 \\verb| |\\verb|:| 0.066$"
      ],
      "text/plain": [
       "'x =' 0.3 ' :' 0.066"
      ]
     },
     "execution_count": 13,
     "metadata": {
     },
     "output_type": "execute_result"
    },
    {
     "data": {
      "text/html": [
       "<html>\\(\\displaystyle \\verb|x|\\verb| |\\verb|=| 0.4 \\verb| |\\verb|:| 0.08\\)</html>"
      ],
      "text/latex": [
       "$\\displaystyle \\verb|x|\\verb| |\\verb|=| 0.4 \\verb| |\\verb|:| 0.08$"
      ],
      "text/plain": [
       "'x =' 0.4 ' :' 0.08"
      ]
     },
     "execution_count": 13,
     "metadata": {
     },
     "output_type": "execute_result"
    },
    {
     "data": {
      "text/html": [
       "<html>\\(\\displaystyle \\verb|x|\\verb| |\\verb|=| 0.5 \\verb| |\\verb|:| 0.092\\)</html>"
      ],
      "text/latex": [
       "$\\displaystyle \\verb|x|\\verb| |\\verb|=| 0.5 \\verb| |\\verb|:| 0.092$"
      ],
      "text/plain": [
       "'x =' 0.5 ' :' 0.092"
      ]
     },
     "execution_count": 13,
     "metadata": {
     },
     "output_type": "execute_result"
    },
    {
     "data": {
      "text/html": [
       "<html>\\(\\displaystyle \\verb|x|\\verb| |\\verb|=| 0.6 \\verb| |\\verb|:| 0.1\\)</html>"
      ],
      "text/latex": [
       "$\\displaystyle \\verb|x|\\verb| |\\verb|=| 0.6 \\verb| |\\verb|:| 0.1$"
      ],
      "text/plain": [
       "'x =' 0.6 ' :' 0.1"
      ]
     },
     "execution_count": 13,
     "metadata": {
     },
     "output_type": "execute_result"
    },
    {
     "data": {
      "text/html": [
       "<html>\\(\\displaystyle \\verb|x|\\verb| |\\verb|=| 0.7 \\verb| |\\verb|:| 0.104\\)</html>"
      ],
      "text/latex": [
       "$\\displaystyle \\verb|x|\\verb| |\\verb|=| 0.7 \\verb| |\\verb|:| 0.104$"
      ],
      "text/plain": [
       "'x =' 0.7 ' :' 0.104"
      ]
     },
     "execution_count": 13,
     "metadata": {
     },
     "output_type": "execute_result"
    },
    {
     "data": {
      "text/html": [
       "<html>\\(\\displaystyle \\verb|x|\\verb| |\\verb|=| 0.8 \\verb| |\\verb|:| 0.106\\)</html>"
      ],
      "text/latex": [
       "$\\displaystyle \\verb|x|\\verb| |\\verb|=| 0.8 \\verb| |\\verb|:| 0.106$"
      ],
      "text/plain": [
       "'x =' 0.8 ' :' 0.106"
      ]
     },
     "execution_count": 13,
     "metadata": {
     },
     "output_type": "execute_result"
    },
    {
     "data": {
      "text/html": [
       "<html>\\(\\displaystyle \\verb|x|\\verb| |\\verb|=| 0.9 \\verb| |\\verb|:| 0.103\\)</html>"
      ],
      "text/latex": [
       "$\\displaystyle \\verb|x|\\verb| |\\verb|=| 0.9 \\verb| |\\verb|:| 0.103$"
      ],
      "text/plain": [
       "'x =' 0.9 ' :' 0.103"
      ]
     },
     "execution_count": 13,
     "metadata": {
     },
     "output_type": "execute_result"
    },
    {
     "data": {
      "text/html": [
       "<html>\\(\\displaystyle \\verb|x|\\verb| |\\verb|=| 1.0 \\verb| |\\verb|:| 0.098\\)</html>"
      ],
      "text/latex": [
       "$\\displaystyle \\verb|x|\\verb| |\\verb|=| 1.0 \\verb| |\\verb|:| 0.098$"
      ],
      "text/plain": [
       "'x =' 1.0 ' :' 0.098"
      ]
     },
     "execution_count": 13,
     "metadata": {
     },
     "output_type": "execute_result"
    }
   ],
   "source": [
    "# Crank-Nicolson\n",
    "def moyenne ():\n",
    "\n",
    "    # Calculs\n",
    "    resultats = []\n",
    "    prec = debut ()\n",
    "    y = yDebut ()\n",
    "\n",
    "    for x in numeric_range (debut () + ecart (), fin () + ecart () * 2, ecart ()):\n",
    "\n",
    "        y += (prime (prec, y) + prime (x, y)) / 2 * (x - prec)\n",
    "        resultats.append (y)\n",
    "        prec = x\n",
    "\n",
    "    return resultats\n",
    "\n",
    "\n",
    "show (\"Valeurs\")\n",
    "affichage (moyenne ())\n",
    "\n",
    "print ()\n",
    "show (\"Erreurs\")\n",
    "affichage (erreur (moyenne))"
   ]
  },
  {
   "cell_type": "code",
   "execution_count": 0,
   "metadata": {
    "collapsed": false
   },
   "outputs": [
   ],
   "source": [
    "# Heun (à voir)\n",
    "def trapeze ():\n",
    "\n",
    "    # Calculs\n",
    "    resultats = []\n",
    "    prec = debut ()\n",
    "    y = yDebut ()\n",
    "\n",
    "    for x in numeric_range (debut () + ecart (), fin () + ecart () * 2, ecart ()):\n",
    "\n",
    "        y += (prime (prec, y) + prime (x, y)) / 2 * (x - prec)\n",
    "        resultats.append (y)\n",
    "        prec = x\n",
    "\n",
    "    return resultats\n",
    "\n",
    "\n",
    "show (\"Valeurs\")\n",
    "affichage (trapeze ())\n",
    "\n",
    "print ()\n",
    "show (\"Erreurs\")\n",
    "affichage (erreur (trapeze))"
   ]
  },
  {
   "cell_type": "code",
   "execution_count": 0,
   "metadata": {
    "collapsed": false
   },
   "outputs": [
   ],
   "source": [
   ]
  }
 ],
 "metadata": {
  "kernelspec": {
   "display_name": "SageMath 9.7",
   "language": "sagemath",
   "metadata": {
    "cocalc": {
     "description": "Open-source mathematical software system",
     "priority": 10,
     "url": "https://www.sagemath.org/"
    }
   },
   "name": "sage-9.7",
   "resource_dir": "/ext/jupyter/kernels/sage-9.7"
  },
  "language_info": {
   "codemirror_mode": {
    "name": "ipython",
    "version": 3
   },
   "file_extension": ".py",
   "mimetype": "text/x-python",
   "name": "python",
   "nbconvert_exporter": "python",
   "pygments_lexer": "ipython3",
   "version": "3.10.5"
  }
 },
 "nbformat": 4,
 "nbformat_minor": 4
}